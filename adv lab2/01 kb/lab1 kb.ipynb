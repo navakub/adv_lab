{
 "cells": [
  {
   "cell_type": "code",
   "execution_count": 1,
   "metadata": {},
   "outputs": [],
   "source": [
    "import pandas as pd\n",
    "import numpy as np\n",
    "import matplotlib.pyplot as plt\n",
    "from scipy.integrate import simpson\n",
    "from scipy.optimize import curve_fit"
   ]
  },
  {
   "cell_type": "markdown",
   "metadata": {},
   "source": [
    "part 1: find $f_e$\n",
    "\n"
   ]
  },
  {
   "cell_type": "code",
   "execution_count": 2,
   "metadata": {},
   "outputs": [
    {
     "data": {
      "text/html": [
       "<div>\n",
       "<style scoped>\n",
       "    .dataframe tbody tr th:only-of-type {\n",
       "        vertical-align: middle;\n",
       "    }\n",
       "\n",
       "    .dataframe tbody tr th {\n",
       "        vertical-align: top;\n",
       "    }\n",
       "\n",
       "    .dataframe thead th {\n",
       "        text-align: right;\n",
       "    }\n",
       "</style>\n",
       "<table border=\"1\" class=\"dataframe\">\n",
       "  <thead>\n",
       "    <tr style=\"text-align: right;\">\n",
       "      <th></th>\n",
       "      <th>f (Hz)</th>\n",
       "      <th>A_rms (V)</th>\n",
       "      <th>dA(V)</th>\n",
       "      <th>G (output/input)</th>\n",
       "      <th>delta G</th>\n",
       "      <th>|G|^2</th>\n",
       "      <th>delta |G|^2</th>\n",
       "    </tr>\n",
       "  </thead>\n",
       "  <tbody>\n",
       "    <tr>\n",
       "      <th>0</th>\n",
       "      <td>10</td>\n",
       "      <td>0.294</td>\n",
       "      <td>0.005</td>\n",
       "      <td>103.944697</td>\n",
       "      <td>1</td>\n",
       "      <td>1.080450e+04</td>\n",
       "      <td>207.889394</td>\n",
       "    </tr>\n",
       "    <tr>\n",
       "      <th>1</th>\n",
       "      <td>20</td>\n",
       "      <td>0.298</td>\n",
       "      <td>0.005</td>\n",
       "      <td>105.358910</td>\n",
       "      <td>1</td>\n",
       "      <td>1.110050e+04</td>\n",
       "      <td>210.717821</td>\n",
       "    </tr>\n",
       "    <tr>\n",
       "      <th>2</th>\n",
       "      <td>40</td>\n",
       "      <td>0.374</td>\n",
       "      <td>0.010</td>\n",
       "      <td>132.228968</td>\n",
       "      <td>1</td>\n",
       "      <td>1.748450e+04</td>\n",
       "      <td>264.457936</td>\n",
       "    </tr>\n",
       "    <tr>\n",
       "      <th>3</th>\n",
       "      <td>70</td>\n",
       "      <td>4.515</td>\n",
       "      <td>0.010</td>\n",
       "      <td>1596.293559</td>\n",
       "      <td>1</td>\n",
       "      <td>2.548153e+06</td>\n",
       "      <td>3192.587117</td>\n",
       "    </tr>\n",
       "    <tr>\n",
       "      <th>4</th>\n",
       "      <td>100</td>\n",
       "      <td>7.765</td>\n",
       "      <td>0.005</td>\n",
       "      <td>2745.342078</td>\n",
       "      <td>1</td>\n",
       "      <td>7.536903e+06</td>\n",
       "      <td>5490.684156</td>\n",
       "    </tr>\n",
       "    <tr>\n",
       "      <th>5</th>\n",
       "      <td>200</td>\n",
       "      <td>17.150</td>\n",
       "      <td>0.010</td>\n",
       "      <td>6063.440649</td>\n",
       "      <td>1</td>\n",
       "      <td>3.676531e+07</td>\n",
       "      <td>12126.881297</td>\n",
       "    </tr>\n",
       "    <tr>\n",
       "      <th>6</th>\n",
       "      <td>400</td>\n",
       "      <td>27.100</td>\n",
       "      <td>0.005</td>\n",
       "      <td>9581.296885</td>\n",
       "      <td>1</td>\n",
       "      <td>9.180125e+07</td>\n",
       "      <td>19162.593770</td>\n",
       "    </tr>\n",
       "    <tr>\n",
       "      <th>7</th>\n",
       "      <td>700</td>\n",
       "      <td>32.250</td>\n",
       "      <td>0.010</td>\n",
       "      <td>11402.096847</td>\n",
       "      <td>1</td>\n",
       "      <td>1.300078e+08</td>\n",
       "      <td>22804.193693</td>\n",
       "    </tr>\n",
       "    <tr>\n",
       "      <th>8</th>\n",
       "      <td>1000</td>\n",
       "      <td>34.000</td>\n",
       "      <td>0.010</td>\n",
       "      <td>12020.815280</td>\n",
       "      <td>1</td>\n",
       "      <td>1.445000e+08</td>\n",
       "      <td>24041.630560</td>\n",
       "    </tr>\n",
       "    <tr>\n",
       "      <th>9</th>\n",
       "      <td>2000</td>\n",
       "      <td>35.100</td>\n",
       "      <td>0.010</td>\n",
       "      <td>12409.724010</td>\n",
       "      <td>1</td>\n",
       "      <td>1.540012e+08</td>\n",
       "      <td>24819.448020</td>\n",
       "    </tr>\n",
       "    <tr>\n",
       "      <th>10</th>\n",
       "      <td>4000</td>\n",
       "      <td>34.500</td>\n",
       "      <td>0.100</td>\n",
       "      <td>12197.591975</td>\n",
       "      <td>1</td>\n",
       "      <td>1.487812e+08</td>\n",
       "      <td>24395.183951</td>\n",
       "    </tr>\n",
       "    <tr>\n",
       "      <th>11</th>\n",
       "      <td>7000</td>\n",
       "      <td>32.400</td>\n",
       "      <td>0.200</td>\n",
       "      <td>11455.129855</td>\n",
       "      <td>1</td>\n",
       "      <td>1.312200e+08</td>\n",
       "      <td>22910.259710</td>\n",
       "    </tr>\n",
       "    <tr>\n",
       "      <th>12</th>\n",
       "      <td>10000</td>\n",
       "      <td>29.500</td>\n",
       "      <td>0.100</td>\n",
       "      <td>10429.825023</td>\n",
       "      <td>1</td>\n",
       "      <td>1.087812e+08</td>\n",
       "      <td>20859.650045</td>\n",
       "    </tr>\n",
       "    <tr>\n",
       "      <th>13</th>\n",
       "      <td>20000</td>\n",
       "      <td>20.850</td>\n",
       "      <td>0.100</td>\n",
       "      <td>7371.588194</td>\n",
       "      <td>1</td>\n",
       "      <td>5.434031e+07</td>\n",
       "      <td>14743.176388</td>\n",
       "    </tr>\n",
       "    <tr>\n",
       "      <th>14</th>\n",
       "      <td>40000</td>\n",
       "      <td>10.550</td>\n",
       "      <td>0.100</td>\n",
       "      <td>3729.988271</td>\n",
       "      <td>1</td>\n",
       "      <td>1.391281e+07</td>\n",
       "      <td>7459.976542</td>\n",
       "    </tr>\n",
       "    <tr>\n",
       "      <th>15</th>\n",
       "      <td>70000</td>\n",
       "      <td>4.430</td>\n",
       "      <td>0.020</td>\n",
       "      <td>1566.241520</td>\n",
       "      <td>1</td>\n",
       "      <td>2.453112e+06</td>\n",
       "      <td>3132.483041</td>\n",
       "    </tr>\n",
       "    <tr>\n",
       "      <th>16</th>\n",
       "      <td>100000</td>\n",
       "      <td>2.275</td>\n",
       "      <td>0.040</td>\n",
       "      <td>804.333964</td>\n",
       "      <td>1</td>\n",
       "      <td>6.469531e+05</td>\n",
       "      <td>1608.667927</td>\n",
       "    </tr>\n",
       "    <tr>\n",
       "      <th>17</th>\n",
       "      <td>200000</td>\n",
       "      <td>0.629</td>\n",
       "      <td>0.020</td>\n",
       "      <td>222.385083</td>\n",
       "      <td>1</td>\n",
       "      <td>4.945512e+04</td>\n",
       "      <td>444.770165</td>\n",
       "    </tr>\n",
       "  </tbody>\n",
       "</table>\n",
       "</div>"
      ],
      "text/plain": [
       "    f (Hz)  A_rms (V)  dA(V)  G (output/input)  delta G         |G|^2  \\\n",
       "0       10      0.294  0.005        103.944697        1  1.080450e+04   \n",
       "1       20      0.298  0.005        105.358910        1  1.110050e+04   \n",
       "2       40      0.374  0.010        132.228968        1  1.748450e+04   \n",
       "3       70      4.515  0.010       1596.293559        1  2.548153e+06   \n",
       "4      100      7.765  0.005       2745.342078        1  7.536903e+06   \n",
       "5      200     17.150  0.010       6063.440649        1  3.676531e+07   \n",
       "6      400     27.100  0.005       9581.296885        1  9.180125e+07   \n",
       "7      700     32.250  0.010      11402.096847        1  1.300078e+08   \n",
       "8     1000     34.000  0.010      12020.815280        1  1.445000e+08   \n",
       "9     2000     35.100  0.010      12409.724010        1  1.540012e+08   \n",
       "10    4000     34.500  0.100      12197.591975        1  1.487812e+08   \n",
       "11    7000     32.400  0.200      11455.129855        1  1.312200e+08   \n",
       "12   10000     29.500  0.100      10429.825023        1  1.087812e+08   \n",
       "13   20000     20.850  0.100       7371.588194        1  5.434031e+07   \n",
       "14   40000     10.550  0.100       3729.988271        1  1.391281e+07   \n",
       "15   70000      4.430  0.020       1566.241520        1  2.453112e+06   \n",
       "16  100000      2.275  0.040        804.333964        1  6.469531e+05   \n",
       "17  200000      0.629  0.020        222.385083        1  4.945512e+04   \n",
       "\n",
       "     delta |G|^2  \n",
       "0     207.889394  \n",
       "1     210.717821  \n",
       "2     264.457936  \n",
       "3    3192.587117  \n",
       "4    5490.684156  \n",
       "5   12126.881297  \n",
       "6   19162.593770  \n",
       "7   22804.193693  \n",
       "8   24041.630560  \n",
       "9   24819.448020  \n",
       "10  24395.183951  \n",
       "11  22910.259710  \n",
       "12  20859.650045  \n",
       "13  14743.176388  \n",
       "14   7459.976542  \n",
       "15   3132.483041  \n",
       "16   1608.667927  \n",
       "17    444.770165  "
      ]
     },
     "execution_count": 2,
     "metadata": {},
     "output_type": "execute_result"
    }
   ],
   "source": [
    "df1 = pd.read_excel('lab1.xlsx',sheet_name='Sheet1')\n",
    "df1"
   ]
  },
  {
   "cell_type": "code",
   "execution_count": 3,
   "metadata": {},
   "outputs": [
    {
     "data": {
      "text/plain": [
       "True"
      ]
     },
     "execution_count": 3,
     "metadata": {},
     "output_type": "execute_result"
    }
   ],
   "source": [
    "f = df1['f (Hz)'].to_numpy(); ef=np.zeros(f.size)\n",
    "input = 4e-3 # 4 mV\n",
    "g2 = df1['|G|^2'].to_numpy(); eg2=df1['delta |G|^2'].to_numpy()\n",
    "f.shape==g2.shape"
   ]
  },
  {
   "cell_type": "code",
   "execution_count": 4,
   "metadata": {},
   "outputs": [
    {
     "data": {
      "text/plain": [
       "Text(0, 0.5, '$|G|^2$')"
      ]
     },
     "execution_count": 4,
     "metadata": {},
     "output_type": "execute_result"
    },
    {
     "data": {
      "image/png": "[encoded data removed]",
      "text/plain": [
       "<Figure size 432x288 with 1 Axes>"
      ]
     },
     "metadata": {
      "needs_background": "light"
     },
     "output_type": "display_data"
    }
   ],
   "source": [
    "plt.figure(); plt.grid(True, which=\"both\")\n",
    "plt.semilogx(f, g2, 'x')\n",
    "plt.title('Part 1: Plot of frequency and square of gain (semi-log scale)')\n",
    "plt.xlabel('$f$ (Hz)'); plt.ylabel('$|G|^2$')"
   ]
  },
  {
   "cell_type": "code",
   "execution_count": 5,
   "metadata": {},
   "outputs": [
    {
     "data": {
      "text/plain": [
       "2.902359145820434"
      ]
     },
     "execution_count": 5,
     "metadata": {},
     "output_type": "execute_result"
    }
   ],
   "source": [
    "#effective bandwidth\n",
    "f_ = simpson(g2,f)\n",
    "f_/1e12 #1e12"
   ]
  },
  {
   "cell_type": "markdown",
   "metadata": {},
   "source": [
    "part2: find $k_B$\n"
   ]
  },
  {
   "cell_type": "code",
   "execution_count": 6,
   "metadata": {},
   "outputs": [
    {
     "data": {
      "text/html": [
       "<div>\n",
       "<style scoped>\n",
       "    .dataframe tbody tr th:only-of-type {\n",
       "        vertical-align: middle;\n",
       "    }\n",
       "\n",
       "    .dataframe tbody tr th {\n",
       "        vertical-align: top;\n",
       "    }\n",
       "\n",
       "    .dataframe thead th {\n",
       "        text-align: right;\n",
       "    }\n",
       "</style>\n",
       "<table border=\"1\" class=\"dataframe\">\n",
       "  <thead>\n",
       "    <tr style=\"text-align: right;\">\n",
       "      <th></th>\n",
       "      <th>R (ohm)</th>\n",
       "      <th>min</th>\n",
       "      <th>max</th>\n",
       "      <th>v(noise)</th>\n",
       "      <th>error</th>\n",
       "      <th>v</th>\n",
       "      <th>vp</th>\n",
       "    </tr>\n",
       "  </thead>\n",
       "  <tbody>\n",
       "    <tr>\n",
       "      <th>0</th>\n",
       "      <td>47</td>\n",
       "      <td>122</td>\n",
       "      <td>124</td>\n",
       "      <td>123.0</td>\n",
       "      <td>1.0</td>\n",
       "      <td>0.0</td>\n",
       "      <td>1.00</td>\n",
       "    </tr>\n",
       "    <tr>\n",
       "      <th>1</th>\n",
       "      <td>100</td>\n",
       "      <td>122</td>\n",
       "      <td>124</td>\n",
       "      <td>123.0</td>\n",
       "      <td>1.0</td>\n",
       "      <td>1.0</td>\n",
       "      <td>0.50</td>\n",
       "    </tr>\n",
       "    <tr>\n",
       "      <th>2</th>\n",
       "      <td>220</td>\n",
       "      <td>122</td>\n",
       "      <td>124</td>\n",
       "      <td>123.0</td>\n",
       "      <td>1.0</td>\n",
       "      <td>1.0</td>\n",
       "      <td>0.50</td>\n",
       "    </tr>\n",
       "    <tr>\n",
       "      <th>3</th>\n",
       "      <td>470</td>\n",
       "      <td>122</td>\n",
       "      <td>123</td>\n",
       "      <td>122.5</td>\n",
       "      <td>0.5</td>\n",
       "      <td>0.5</td>\n",
       "      <td>1.00</td>\n",
       "    </tr>\n",
       "    <tr>\n",
       "      <th>4</th>\n",
       "      <td>1000</td>\n",
       "      <td>122</td>\n",
       "      <td>123</td>\n",
       "      <td>122.5</td>\n",
       "      <td>0.5</td>\n",
       "      <td>0.5</td>\n",
       "      <td>1.00</td>\n",
       "    </tr>\n",
       "    <tr>\n",
       "      <th>5</th>\n",
       "      <td>2200</td>\n",
       "      <td>123</td>\n",
       "      <td>124</td>\n",
       "      <td>123.5</td>\n",
       "      <td>1.0</td>\n",
       "      <td>2.0</td>\n",
       "      <td>1.00</td>\n",
       "    </tr>\n",
       "    <tr>\n",
       "      <th>6</th>\n",
       "      <td>4700</td>\n",
       "      <td>125</td>\n",
       "      <td>126</td>\n",
       "      <td>125.5</td>\n",
       "      <td>0.5</td>\n",
       "      <td>3.5</td>\n",
       "      <td>1.75</td>\n",
       "    </tr>\n",
       "    <tr>\n",
       "      <th>7</th>\n",
       "      <td>10000</td>\n",
       "      <td>129</td>\n",
       "      <td>131</td>\n",
       "      <td>130.0</td>\n",
       "      <td>1.0</td>\n",
       "      <td>8.0</td>\n",
       "      <td>4.00</td>\n",
       "    </tr>\n",
       "    <tr>\n",
       "      <th>8</th>\n",
       "      <td>22000</td>\n",
       "      <td>136</td>\n",
       "      <td>140</td>\n",
       "      <td>138.0</td>\n",
       "      <td>2.0</td>\n",
       "      <td>16.0</td>\n",
       "      <td>8.00</td>\n",
       "    </tr>\n",
       "    <tr>\n",
       "      <th>9</th>\n",
       "      <td>47000</td>\n",
       "      <td>149</td>\n",
       "      <td>155</td>\n",
       "      <td>152.0</td>\n",
       "      <td>3.0</td>\n",
       "      <td>30.0</td>\n",
       "      <td>15.00</td>\n",
       "    </tr>\n",
       "    <tr>\n",
       "      <th>10</th>\n",
       "      <td>100000</td>\n",
       "      <td>159</td>\n",
       "      <td>169</td>\n",
       "      <td>164.0</td>\n",
       "      <td>5.0</td>\n",
       "      <td>42.0</td>\n",
       "      <td>21.00</td>\n",
       "    </tr>\n",
       "    <tr>\n",
       "      <th>11</th>\n",
       "      <td>220000</td>\n",
       "      <td>188</td>\n",
       "      <td>212</td>\n",
       "      <td>200.0</td>\n",
       "      <td>12.0</td>\n",
       "      <td>78.0</td>\n",
       "      <td>39.00</td>\n",
       "    </tr>\n",
       "    <tr>\n",
       "      <th>12</th>\n",
       "      <td>470000</td>\n",
       "      <td>249</td>\n",
       "      <td>270</td>\n",
       "      <td>259.5</td>\n",
       "      <td>10.5</td>\n",
       "      <td>137.5</td>\n",
       "      <td>68.75</td>\n",
       "    </tr>\n",
       "    <tr>\n",
       "      <th>13</th>\n",
       "      <td>1000000</td>\n",
       "      <td>286</td>\n",
       "      <td>355</td>\n",
       "      <td>320.5</td>\n",
       "      <td>34.5</td>\n",
       "      <td>198.5</td>\n",
       "      <td>99.25</td>\n",
       "    </tr>\n",
       "  </tbody>\n",
       "</table>\n",
       "</div>"
      ],
      "text/plain": [
       "    R (ohm)  min  max  v(noise)  error      v     vp\n",
       "0        47  122  124     123.0    1.0    0.0   1.00\n",
       "1       100  122  124     123.0    1.0    1.0   0.50\n",
       "2       220  122  124     123.0    1.0    1.0   0.50\n",
       "3       470  122  123     122.5    0.5    0.5   1.00\n",
       "4      1000  122  123     122.5    0.5    0.5   1.00\n",
       "5      2200  123  124     123.5    1.0    2.0   1.00\n",
       "6      4700  125  126     125.5    0.5    3.5   1.75\n",
       "7     10000  129  131     130.0    1.0    8.0   4.00\n",
       "8     22000  136  140     138.0    2.0   16.0   8.00\n",
       "9     47000  149  155     152.0    3.0   30.0  15.00\n",
       "10   100000  159  169     164.0    5.0   42.0  21.00\n",
       "11   220000  188  212     200.0   12.0   78.0  39.00\n",
       "12   470000  249  270     259.5   10.5  137.5  68.75\n",
       "13  1000000  286  355     320.5   34.5  198.5  99.25"
      ]
     },
     "execution_count": 6,
     "metadata": {},
     "output_type": "execute_result"
    }
   ],
   "source": [
    "df2 = pd.read_excel('lab1.xlsx',sheet_name='Sheet2')\n",
    "df2"
   ]
  },
  {
   "cell_type": "code",
   "execution_count": 7,
   "metadata": {},
   "outputs": [],
   "source": [
    "r2 = df2['R (ohm)'].to_numpy(); er=np.zeros(r2.size)\n",
    "v = df2['vp'].to_numpy(); ev=df2['error'].to_numpy()\n",
    "\n",
    "#v = v - 122 * np.ones(v.size)\n",
    "#v"
   ]
  },
  {
   "cell_type": "code",
   "execution_count": 8,
   "metadata": {},
   "outputs": [
    {
     "name": "stderr",
     "output_type": "stream",
     "text": [
      "C:\\Users\\Windows\\AppData\\Local\\Temp\\ipykernel_17836\\548378133.py:2: RuntimeWarning: invalid value encountered in sqrt\n",
      "  return np.sqrt(a*x)+b\n"
     ]
    },
    {
     "data": {
      "text/plain": [
       "Text(0, 0.5, '$f$ (Hz)')"
      ]
     },
     "execution_count": 8,
     "metadata": {},
     "output_type": "execute_result"
    },
    {
     "data": {
      "image/png": "[encoded data removed]",
      "text/plain": [
       "<Figure size 432x288 with 1 Axes>"
      ]
     },
     "metadata": {
      "needs_background": "light"
     },
     "output_type": "display_data"
    }
   ],
   "source": [
    "def fn(x,a,b):\n",
    "    return np.sqrt(a*x)+b\n",
    "popt, pcov = curve_fit(fn, r2, v)\n",
    "\n",
    "vfit=fn(r2,*popt)\n",
    "plt.grid(True, which='both')\n",
    "plt.scatter(r2,v,label='data'); plt.plot(r2,vfit,color='r',label='fit')\n",
    "plt.legend(loc='best')\n",
    "plt.title('Part 2: Plot of resistance and frequency')\n",
    "plt.xlabel('$R$ ($\\Omega$)'); plt.ylabel('$f$ (Hz)')"
   ]
  },
  {
   "cell_type": "code",
   "execution_count": 9,
   "metadata": {},
   "outputs": [],
   "source": [
    "import uncertainties as u"
   ]
  },
  {
   "cell_type": "code",
   "execution_count": 10,
   "metadata": {},
   "outputs": [
    {
     "name": "stdout",
     "output_type": "stream",
     "text": [
      "[ 0.01004179 -3.75321989] [[ 4.49714435e-07 -5.02695981e-04]\n",
      " [-5.02695981e-04  1.50166355e+00]]\n",
      "(2.9+/-0.7)e-24\n"
     ]
    }
   ],
   "source": [
    "T = 24.9+273.15\n",
    "T=u.ufloat(T,0.1); f_=u.ufloat(f_,1e10)\n",
    "a=u.ufloat(popt[0],np.sqrt(6.66404339e-06))\n",
    "kb = a/1000**2/(4*T*f_)\n",
    "\n",
    "print(popt, pcov)\n",
    "\n",
    "print(f'{kb:.1ue}')"
   ]
  },
  {
   "cell_type": "code",
   "execution_count": null,
   "metadata": {},
   "outputs": [],
   "source": []
  },
  {
   "cell_type": "code",
   "execution_count": null,
   "metadata": {},
   "outputs": [],
   "source": []
  }
 ],
 "metadata": {
  "kernelspec": {
   "display_name": "Python 3.10.5 64-bit",
   "language": "python",
   "name": "python3"
  },
  "language_info": {
   "codemirror_mode": {
    "name": "ipython",
    "version": 3
   },
   "file_extension": ".py",
   "mimetype": "text/x-python",
   "name": "python",
   "nbconvert_exporter": "python",
   "pygments_lexer": "ipython3",
   "version": "3.10.5"
  },
  "orig_nbformat": 4,
  "vscode": {
   "interpreter": {
    "hash": "04eb5fd3382f5ae6ecd8e5ea5943a43c2b77f84302c9ef3aee2bb26e0a62d38e"
   }
  }
 },
 "nbformat": 4,
 "nbformat_minor": 2
}
