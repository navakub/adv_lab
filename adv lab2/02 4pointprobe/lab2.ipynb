{
 "cells": [
  {
   "cell_type": "code",
   "execution_count": 1,
   "metadata": {},
   "outputs": [],
   "source": [
    "import numpy as np\n",
    "from scipy.optimize import root,root_scalar\n",
    "import pandas as pd\n",
    "import matplotlib.pyplot as plt\n",
    "\n",
    "I=1\n",
    "t=5e-4"
   ]
  },
  {
   "cell_type": "code",
   "execution_count": 2,
   "metadata": {},
   "outputs": [
    {
     "data": {
      "text/html": [
       "<div>\n",
       "<style scoped>\n",
       "    .dataframe tbody tr th:only-of-type {\n",
       "        vertical-align: middle;\n",
       "    }\n",
       "\n",
       "    .dataframe tbody tr th {\n",
       "        vertical-align: top;\n",
       "    }\n",
       "\n",
       "    .dataframe thead th {\n",
       "        text-align: right;\n",
       "    }\n",
       "</style>\n",
       "<table border=\"1\" class=\"dataframe\">\n",
       "  <thead>\n",
       "    <tr style=\"text-align: right;\">\n",
       "      <th></th>\n",
       "      <th>Vn</th>\n",
       "      <th>I (A)</th>\n",
       "      <th>Vsquare\\n( ± 0.002 mV )</th>\n",
       "      <th>Vcircle\\n( ± 0.002 mV )</th>\n",
       "    </tr>\n",
       "  </thead>\n",
       "  <tbody>\n",
       "    <tr>\n",
       "      <th>0</th>\n",
       "      <td>1</td>\n",
       "      <td>1</td>\n",
       "      <td>4.323</td>\n",
       "      <td>4.201</td>\n",
       "    </tr>\n",
       "    <tr>\n",
       "      <th>1</th>\n",
       "      <td>2</td>\n",
       "      <td>1</td>\n",
       "      <td>-4.652</td>\n",
       "      <td>-4.523</td>\n",
       "    </tr>\n",
       "    <tr>\n",
       "      <th>2</th>\n",
       "      <td>3</td>\n",
       "      <td>1</td>\n",
       "      <td>4.258</td>\n",
       "      <td>4.923</td>\n",
       "    </tr>\n",
       "    <tr>\n",
       "      <th>3</th>\n",
       "      <td>4</td>\n",
       "      <td>1</td>\n",
       "      <td>-4.583</td>\n",
       "      <td>-5.263</td>\n",
       "    </tr>\n",
       "    <tr>\n",
       "      <th>4</th>\n",
       "      <td>5</td>\n",
       "      <td>1</td>\n",
       "      <td>4.285</td>\n",
       "      <td>4.195</td>\n",
       "    </tr>\n",
       "    <tr>\n",
       "      <th>5</th>\n",
       "      <td>6</td>\n",
       "      <td>1</td>\n",
       "      <td>-4.645</td>\n",
       "      <td>-4.532</td>\n",
       "    </tr>\n",
       "    <tr>\n",
       "      <th>6</th>\n",
       "      <td>7</td>\n",
       "      <td>1</td>\n",
       "      <td>4.230</td>\n",
       "      <td>4.915</td>\n",
       "    </tr>\n",
       "    <tr>\n",
       "      <th>7</th>\n",
       "      <td>8</td>\n",
       "      <td>1</td>\n",
       "      <td>-4.595</td>\n",
       "      <td>-5.261</td>\n",
       "    </tr>\n",
       "  </tbody>\n",
       "</table>\n",
       "</div>"
      ],
      "text/plain": [
       "   Vn  I (A)  Vsquare\\n( ± 0.002 mV )  Vcircle\\n( ± 0.002 mV )\n",
       "0   1      1                    4.323                    4.201\n",
       "1   2      1                   -4.652                   -4.523\n",
       "2   3      1                    4.258                    4.923\n",
       "3   4      1                   -4.583                   -5.263\n",
       "4   5      1                    4.285                    4.195\n",
       "5   6      1                   -4.645                   -4.532\n",
       "6   7      1                    4.230                    4.915\n",
       "7   8      1                   -4.595                   -5.261"
      ]
     },
     "execution_count": 2,
     "metadata": {},
     "output_type": "execute_result"
    }
   ],
   "source": [
    "df = pd.read_excel(\"lab2.xlsx\",sheet_name=\"van de pauw\")\n",
    "df"
   ]
  },
  {
   "cell_type": "code",
   "execution_count": 3,
   "metadata": {},
   "outputs": [
    {
     "data": {
      "text/plain": [
       "(0    4.323\n",
       " 1   -4.652\n",
       " 2    4.258\n",
       " 3   -4.583\n",
       " 4    4.285\n",
       " 5   -4.645\n",
       " 6    4.230\n",
       " 7   -4.595\n",
       " Name: Vsquare\\n( ± 0.002 mV ), dtype: float64,\n",
       " 0    4.201\n",
       " 1   -4.523\n",
       " 2    4.923\n",
       " 3   -5.263\n",
       " 4    4.195\n",
       " 5   -4.532\n",
       " 6    4.915\n",
       " 7   -5.261\n",
       " Name: Vcircle\\n( ± 0.002 mV ), dtype: float64)"
      ]
     },
     "execution_count": 3,
     "metadata": {},
     "output_type": "execute_result"
    }
   ],
   "source": [
    "vs=df['Vsquare\\n( ± 0.002 mV )']\n",
    "vc=df['Vcircle\\n( ± 0.002 mV )']\n",
    "vs,vc"
   ]
  },
  {
   "cell_type": "markdown",
   "metadata": {},
   "source": [
    "van de pauw: square\n"
   ]
  },
  {
   "cell_type": "code",
   "execution_count": 4,
   "metadata": {},
   "outputs": [
    {
     "data": {
      "text/plain": [
       "(0.007521329142344007, 0.00591382709096032)"
      ]
     },
     "execution_count": 4,
     "metadata": {},
     "output_type": "execute_result"
    }
   ],
   "source": [
    "Qas=(vs[0]-vs[1])/(vs[2]-vs[3])\n",
    "Qbs=(vs[4]-vs[5])/(vs[6]-vs[7])\n",
    "qas=(Qas-1)/(Qas+1); qbs=(Qbs-1)/(Qbs+1)\n",
    "qas,qbs"
   ]
  },
  {
   "cell_type": "code",
   "execution_count": 5,
   "metadata": {},
   "outputs": [],
   "source": [
    "def fun(f,q):\n",
    "    return f/0.693*np.arccosh(np.exp(0.693/f)/2) - q"
   ]
  },
  {
   "cell_type": "markdown",
   "metadata": {},
   "source": [
    "x=np.linspace(0.5,1,1000);y=np.exp(0.693/x)/2\n",
    "plt.plot(x,y)"
   ]
  },
  {
   "cell_type": "code",
   "execution_count": 6,
   "metadata": {},
   "outputs": [
    {
     "name": "stderr",
     "output_type": "stream",
     "text": [
      "C:\\Users\\Windows\\AppData\\Local\\Temp\\ipykernel_14280\\1991617561.py:2: RuntimeWarning: invalid value encountered in arccosh\n",
      "  return f/0.693*np.arccosh(np.exp(0.693/f)/2) - q\n"
     ]
    },
    {
     "data": {
      "text/plain": [
       "(      converged: True\n",
       "            flag: 'converged'\n",
       "  function_calls: 41\n",
       "      iterations: 39\n",
       "            root: 0.9997680614009187,\n",
       "       converged: True\n",
       "            flag: 'converged'\n",
       "  function_calls: 41\n",
       "      iterations: 39\n",
       "            root: 0.9997755449582291)"
      ]
     },
     "execution_count": 6,
     "metadata": {},
     "output_type": "execute_result"
    }
   ],
   "source": [
    "fas = root_scalar(fun,qas,method='bisect',bracket=[0.01,1],x0=0.1,fprime=fun)\n",
    "fbs = root_scalar(fun,qbs,method='bisect',bracket=[0.01,1],x0=0.1,fprime=fun)\n",
    "fas,fbs"
   ]
  },
  {
   "cell_type": "code",
   "execution_count": 7,
   "metadata": {},
   "outputs": [
    {
     "data": {
      "text/plain": [
       "1.0073986971630813e-05"
      ]
     },
     "execution_count": 7,
     "metadata": {},
     "output_type": "execute_result"
    }
   ],
   "source": [
    "rhoa1 = np.pi*fas.root*t*(vs[0]-vs[1]+vs[2]-vs[3])/(4*I*np.log(2))/1000\n",
    "rhob1 = np.pi*fbs.root*t*(vs[4]-vs[5]+vs[6]-vs[7])/(4*I*np.log(2))/1000\n",
    "rho1 = (rhoa1+rhob1)/2\n",
    "rho1"
   ]
  },
  {
   "cell_type": "markdown",
   "metadata": {},
   "source": [
    "van de pauw: circle"
   ]
  },
  {
   "cell_type": "code",
   "execution_count": 8,
   "metadata": {},
   "outputs": [
    {
     "data": {
      "text/plain": [
       "(-0.07731359069275515, -0.07665449928582761)"
      ]
     },
     "execution_count": 8,
     "metadata": {},
     "output_type": "execute_result"
    }
   ],
   "source": [
    "Qac=(vc[0]-vc[1])/(vc[2]-vc[3])\n",
    "Qbc=(vc[4]-vc[5])/(vc[6]-vc[7])\n",
    "qac=(Qac-1)/(Qac+1); qbc=(Qbc-1)/(Qbc+1)\n",
    "qac,qbc"
   ]
  },
  {
   "cell_type": "code",
   "execution_count": 9,
   "metadata": {},
   "outputs": [
    {
     "name": "stderr",
     "output_type": "stream",
     "text": [
      "C:\\Users\\Windows\\AppData\\Local\\Temp\\ipykernel_14280\\1991617561.py:2: RuntimeWarning: invalid value encountered in arccosh\n",
      "  return f/0.693*np.arccosh(np.exp(0.693/f)/2) - q\n"
     ]
    },
    {
     "data": {
      "text/plain": [
       "(      converged: True\n",
       "            flag: 'converged'\n",
       "  function_calls: 41\n",
       "      iterations: 39\n",
       "            root: 0.9997876633376834,\n",
       "       converged: True\n",
       "            flag: 'converged'\n",
       "  function_calls: 41\n",
       "      iterations: 39\n",
       "            root: 0.9997876633376834)"
      ]
     },
     "execution_count": 9,
     "metadata": {},
     "output_type": "execute_result"
    }
   ],
   "source": [
    "fac = root_scalar(fun,qac,method='bisect',bracket=[0.01,1],x0=0.1,fprime=fun)\n",
    "fbc = root_scalar(fun,qbc,method='bisect',bracket=[0.01,1],x0=0.1,fprime=fun)\n",
    "fac,fbc"
   ]
  },
  {
   "cell_type": "code",
   "execution_count": 10,
   "metadata": {},
   "outputs": [
    {
     "data": {
      "text/plain": [
       "1.0709108958286768e-05"
      ]
     },
     "execution_count": 10,
     "metadata": {},
     "output_type": "execute_result"
    }
   ],
   "source": [
    "rhoa2 = np.pi*fac.root*t*(vc[0]-vc[1]+vc[2]-vc[3])/(4*I*np.log(2))/1000\n",
    "rhob2 = np.pi*fbc.root*t*(vc[4]-vc[5]+vc[6]-vc[7])/(4*I*np.log(2))/1000\n",
    "rho2 = (rhoa2+rhob2)/2\n",
    "rho2"
   ]
  }
 ],
 "metadata": {
  "kernelspec": {
   "display_name": "Python 3.10.5 64-bit",
   "language": "python",
   "name": "python3"
  },
  "language_info": {
   "codemirror_mode": {
    "name": "ipython",
    "version": 3
   },
   "file_extension": ".py",
   "mimetype": "text/x-python",
   "name": "python",
   "nbconvert_exporter": "python",
   "pygments_lexer": "ipython3",
   "version": "3.10.5"
  },
  "orig_nbformat": 4,
  "vscode": {
   "interpreter": {
    "hash": "04eb5fd3382f5ae6ecd8e5ea5943a43c2b77f84302c9ef3aee2bb26e0a62d38e"
   }
  }
 },
 "nbformat": 4,
 "nbformat_minor": 2
}
